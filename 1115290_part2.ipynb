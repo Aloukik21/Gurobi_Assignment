{
 "cells": [
  {
   "cell_type": "markdown",
   "metadata": {},
   "source": [
    "# Assignment 1 : Question 3 (Opitimization method)"
   ]
  },
  {
   "cell_type": "code",
   "execution_count": 14,
   "metadata": {},
   "outputs": [],
   "source": [
    "from gurobipy import *#--------------importing required libraries\n",
    "import numpy as np\n",
    "\n",
    "from string import*\n",
    "from pandas import *"
   ]
  },
  {
   "cell_type": "code",
   "execution_count": 15,
   "metadata": {},
   "outputs": [],
   "source": [
    "m = Model(\"Question 3 problem\")#---creating the model"
   ]
  },
  {
   "cell_type": "code",
   "execution_count": 27,
   "metadata": {},
   "outputs": [
    {
     "name": "stdout",
     "output_type": "stream",
     "text": [
      "[[ 50  56  62  71 123  59]\n",
      " [113 147 149  61 112 113]\n",
      " [111 121 132 134 123  56]\n",
      " [130  95 149  53 107 109]\n",
      " [118  83 108 101  60  62]\n",
      " [131  53  88 129 127 139]]\n"
     ]
    }
   ],
   "source": [
    "\n",
    "\n",
    "P = [\n",
    "        [50,56,62,71,123,59],\n",
    "        [113,147,149,61,112,113],\n",
    "        [111,121,132,134,123,56],#-----------------------creating matrix\n",
    "        [130,95,149,53,107,109],\n",
    "        [118,83,108,101,60,62],\n",
    "        [131,53,88,129,127,139]\n",
    "]\n",
    "\n",
    "\n",
    "print(np.matrix(P))\n",
    "#print(len(P))\n"
   ]
  },
  {
   "cell_type": "code",
   "execution_count": 17,
   "metadata": {},
   "outputs": [
    {
     "data": {
      "text/plain": [
       "[113, 147, 149, 61, 112, 113]"
      ]
     },
     "execution_count": 17,
     "metadata": {},
     "output_type": "execute_result"
    }
   ],
   "source": [
    "P[1]"
   ]
  },
  {
   "cell_type": "code",
   "execution_count": null,
   "metadata": {},
   "outputs": [],
   "source": []
  },
  {
   "cell_type": "code",
   "execution_count": 18,
   "metadata": {},
   "outputs": [],
   "source": [
    "#y = m.addMVar((7,7), vtype=GRB.BINARY)"
   ]
  },
  {
   "cell_type": "code",
   "execution_count": null,
   "metadata": {},
   "outputs": [],
   "source": []
  },
  {
   "cell_type": "code",
   "execution_count": 19,
   "metadata": {},
   "outputs": [],
   "source": [
    "M = m.addMVar((6,6), lb=0,ub=1, vtype=GRB.BINARY)#----------------creating 7by7 binary matrix"
   ]
  },
  {
   "cell_type": "code",
   "execution_count": null,
   "metadata": {},
   "outputs": [],
   "source": []
  },
  {
   "cell_type": "code",
   "execution_count": 20,
   "metadata": {},
   "outputs": [],
   "source": [
    "\n",
    "for i in range(len(P)):#-------------------this loop will do algorithm part, whihc means select each grid from row and coloumn\n",
    "    const = 0\n",
    "    const_c = 0\n",
    "    \n",
    "    for j in range(len(P)):#------------------for values\n",
    "        const += M[j][i]#--------------------------it means that only values with 1 will be selevcted in coloumn\n",
    "        const_c += M[i][j] #---------------------it means value with 1 will be selected in row\n",
    "    m.addConstr(const == 1)   \n",
    "    m.addConstr(const_c == 1)\n",
    "    \n",
    "\n",
    "    \n",
    "    \n",
    "\n"
   ]
  },
  {
   "cell_type": "code",
   "execution_count": 21,
   "metadata": {},
   "outputs": [],
   "source": [
    "new = np.zeros([6,6]).astype(int)#-------------\n"
   ]
  },
  {
   "cell_type": "code",
   "execution_count": 22,
   "metadata": {},
   "outputs": [],
   "source": [
    "#-- objective function\n",
    "# obj = 0\n",
    "# for v in M:\n",
    "#     obj += v\n",
    "#m.setObjective(obj, GRB.MINIMIZE)\n",
    "\n",
    "obj = 0\n",
    "for i in range(len(P)):\n",
    "    \n",
    "    for j in range(len(P)):\n",
    "        obj += P[i][j]*M[i][j]\n",
    "\n",
    "m.setObjective(obj, GRB.MINIMIZE)#------------- this will help minimizing cost and number values in union set\n"
   ]
  },
  {
   "cell_type": "code",
   "execution_count": 23,
   "metadata": {},
   "outputs": [
    {
     "name": "stdout",
     "output_type": "stream",
     "text": [
      "Gurobi Optimizer version 9.0.2 build v9.0.2rc0 (win64)\n",
      "Optimize a model with 12 rows, 36 columns and 72 nonzeros\n",
      "Model fingerprint: 0xb47767c4\n",
      "Variable types: 0 continuous, 36 integer (36 binary)\n",
      "Coefficient statistics:\n",
      "  Matrix range     [1e+00, 1e+00]\n",
      "  Objective range  [5e+01, 1e+02]\n",
      "  Bounds range     [1e+00, 1e+00]\n",
      "  RHS range        [1e+00, 1e+00]\n",
      "Found heuristic solution: objective 636.0000000\n",
      "Presolve time: 0.00s\n",
      "Presolved: 12 rows, 36 columns, 72 nonzeros\n",
      "Variable types: 0 continuous, 36 integer (36 binary)\n",
      "\n",
      "Root relaxation: objective 3.970000e+02, 10 iterations, 0.00 seconds\n",
      "\n",
      "    Nodes    |    Current Node    |     Objective Bounds      |     Work\n",
      " Expl Unexpl |  Obj  Depth IntInf | Incumbent    BestBd   Gap | It/Node Time\n",
      "\n",
      "*    0     0               0     397.0000000  397.00000  0.00%     -    0s\n",
      "\n",
      "Explored 0 nodes (10 simplex iterations) in 0.01 seconds\n",
      "Thread count was 8 (of 8 available processors)\n",
      "\n",
      "Solution count 2: 397 636 \n",
      "\n",
      "Optimal solution found (tolerance 1.00e-04)\n",
      "Best objective 3.970000000000e+02, best bound 3.970000000000e+02, gap 0.0000%\n"
     ]
    }
   ],
   "source": [
    "m.optimize()#-------------using optimize function and it will show the result"
   ]
  },
  {
   "cell_type": "code",
   "execution_count": 24,
   "metadata": {},
   "outputs": [],
   "source": [
    "for i in range(len(P)):\n",
    "    \n",
    "    for j in range(len(P)):\n",
    "        new[i][j]= P[i][j]*M[i][j].X#--------------------for loop to see the selected grids"
   ]
  },
  {
   "cell_type": "code",
   "execution_count": 25,
   "metadata": {},
   "outputs": [
    {
     "data": {
      "text/plain": [
       "array([[  0,   0,  62,   0,   0,   0],\n",
       "       [113,   0,   0,   0,   0,   0],\n",
       "       [  0,   0,   0,   0,   0,  56],\n",
       "       [  0,   0,   0,  53,   0,   0],\n",
       "       [  0,   0,   0,   0,  60,   0],\n",
       "       [  0,  53,   0,   0,   0,   0]])"
      ]
     },
     "execution_count": 25,
     "metadata": {},
     "output_type": "execute_result"
    }
   ],
   "source": [
    "new#-----------------------grids which are selected are showed below"
   ]
  },
  {
   "cell_type": "code",
   "execution_count": 26,
   "metadata": {},
   "outputs": [
    {
     "name": "stdout",
     "output_type": "stream",
     "text": [
      "minutes 397\n",
      "hours 6.616666666666666\n"
     ]
    }
   ],
   "source": [
    "minutess = new.sum()\n",
    "print(\"minutes\", + minutess)#-----------------------converting to hours\n",
    "hours = minutess/60\n",
    "print(\"hours\", + hours)"
   ]
  },
  {
   "cell_type": "code",
   "execution_count": null,
   "metadata": {},
   "outputs": [],
   "source": []
  },
  {
   "cell_type": "code",
   "execution_count": null,
   "metadata": {},
   "outputs": [],
   "source": []
  },
  {
   "cell_type": "code",
   "execution_count": null,
   "metadata": {},
   "outputs": [],
   "source": []
  },
  {
   "cell_type": "code",
   "execution_count": null,
   "metadata": {},
   "outputs": [],
   "source": []
  },
  {
   "cell_type": "code",
   "execution_count": null,
   "metadata": {},
   "outputs": [],
   "source": []
  },
  {
   "cell_type": "code",
   "execution_count": null,
   "metadata": {},
   "outputs": [],
   "source": []
  },
  {
   "cell_type": "code",
   "execution_count": null,
   "metadata": {},
   "outputs": [],
   "source": []
  },
  {
   "cell_type": "code",
   "execution_count": null,
   "metadata": {},
   "outputs": [],
   "source": []
  },
  {
   "cell_type": "code",
   "execution_count": null,
   "metadata": {},
   "outputs": [],
   "source": []
  },
  {
   "cell_type": "code",
   "execution_count": null,
   "metadata": {},
   "outputs": [],
   "source": []
  },
  {
   "cell_type": "code",
   "execution_count": null,
   "metadata": {},
   "outputs": [],
   "source": []
  },
  {
   "cell_type": "code",
   "execution_count": null,
   "metadata": {},
   "outputs": [],
   "source": []
  },
  {
   "cell_type": "code",
   "execution_count": null,
   "metadata": {},
   "outputs": [],
   "source": []
  },
  {
   "cell_type": "code",
   "execution_count": null,
   "metadata": {},
   "outputs": [],
   "source": []
  },
  {
   "cell_type": "code",
   "execution_count": null,
   "metadata": {},
   "outputs": [],
   "source": []
  },
  {
   "cell_type": "code",
   "execution_count": null,
   "metadata": {},
   "outputs": [],
   "source": []
  },
  {
   "cell_type": "code",
   "execution_count": null,
   "metadata": {},
   "outputs": [],
   "source": []
  }
 ],
 "metadata": {
  "kernelspec": {
   "display_name": "Python 3",
   "language": "python",
   "name": "python3"
  },
  "language_info": {
   "codemirror_mode": {
    "name": "ipython",
    "version": 3
   },
   "file_extension": ".py",
   "mimetype": "text/x-python",
   "name": "python",
   "nbconvert_exporter": "python",
   "pygments_lexer": "ipython3",
   "version": "3.7.6"
  }
 },
 "nbformat": 4,
 "nbformat_minor": 4
}
