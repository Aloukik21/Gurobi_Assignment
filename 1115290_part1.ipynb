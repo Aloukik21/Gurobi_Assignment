{
 "cells": [
  {
   "cell_type": "markdown",
   "metadata": {},
   "source": [
    "# Assignment 1 : Question 3 (smart health)\n",
    "# Student_ID : 1115290"
   ]
  },
  {
   "cell_type": "code",
   "execution_count": 1,
   "metadata": {},
   "outputs": [],
   "source": [
    "from gurobipy import *#--------------importing required libraries\n",
    "import numpy as np\n",
    "\n",
    "from string import*\n",
    "from pandas import *"
   ]
  },
  {
   "cell_type": "code",
   "execution_count": 2,
   "metadata": {},
   "outputs": [
    {
     "name": "stdout",
     "output_type": "stream",
     "text": [
      "Using license file C:\\Users\\Aloukik Aditya\\gurobi.lic\n",
      "Academic license - for non-commercial use only\n"
     ]
    }
   ],
   "source": [
    "m = Model(\"Question 3 problem\")#---creating the model"
   ]
  },
  {
   "cell_type": "code",
   "execution_count": 3,
   "metadata": {},
   "outputs": [
    {
     "name": "stdout",
     "output_type": "stream",
     "text": [
      "[[130  95]\n",
      " [118  83]]\n"
     ]
    }
   ],
   "source": [
    "\n",
    "\n",
    "P = [\n",
    "        [130,95],\n",
    "        [118,83],\n",
    "        \n",
    "]\n",
    "\n",
    "\n",
    "print(np.matrix(P))\n",
    "\n"
   ]
  },
  {
   "cell_type": "code",
   "execution_count": 4,
   "metadata": {},
   "outputs": [
    {
     "data": {
      "text/plain": [
       "[118, 83]"
      ]
     },
     "execution_count": 4,
     "metadata": {},
     "output_type": "execute_result"
    }
   ],
   "source": [
    "P[1]"
   ]
  },
  {
   "cell_type": "code",
   "execution_count": null,
   "metadata": {},
   "outputs": [],
   "source": []
  },
  {
   "cell_type": "code",
   "execution_count": 5,
   "metadata": {},
   "outputs": [],
   "source": [
    "#y = m.addMVar((7,7), vtype=GRB.BINARY)"
   ]
  },
  {
   "cell_type": "code",
   "execution_count": null,
   "metadata": {},
   "outputs": [],
   "source": []
  },
  {
   "cell_type": "code",
   "execution_count": 6,
   "metadata": {},
   "outputs": [],
   "source": [
    "M = m.addMVar((2,2), lb=0,ub=1, vtype=GRB.BINARY)#----------------creating 2 by 2 binary matrix"
   ]
  },
  {
   "cell_type": "code",
   "execution_count": null,
   "metadata": {},
   "outputs": [],
   "source": []
  },
  {
   "cell_type": "code",
   "execution_count": 7,
   "metadata": {},
   "outputs": [],
   "source": [
    "\n",
    "for i in range(len(P)):#-------------------this loop will do algorithm part, whihc means select each grid from row and coloumn\n",
    "    const = 0\n",
    "    const_c = 0\n",
    "    \n",
    "    for j in range(len(P)):#------------------for values\n",
    "        const += M[j][i]#--------------------------it means that only values with 1 will be selevcted in coloumn\n",
    "        const_c += M[i][j] #---------------------it means value with 1 will be selected in row\n",
    "    m.addConstr(const == 1)   \n",
    "    m.addConstr(const_c == 1)\n",
    "    \n",
    "\n",
    "    \n",
    "    \n",
    "# for i in range(len(P)):\n",
    "#     const_c = 0\n",
    "#     for j in range(len(P)):#------------------for values\n",
    "#         const_c += M[i][j] \n",
    "#     m.addConstr(const_c == 1)\n",
    "\n"
   ]
  },
  {
   "cell_type": "code",
   "execution_count": 8,
   "metadata": {},
   "outputs": [],
   "source": [
    "new = np.zeros([2,2]).astype(int)#-------------\n"
   ]
  },
  {
   "cell_type": "code",
   "execution_count": 9,
   "metadata": {},
   "outputs": [],
   "source": [
    "#-- objective function\n",
    "# obj = 0\n",
    "# for v in M:\n",
    "#     obj += v\n",
    "#m.setObjective(obj, GRB.MINIMIZE)\n",
    "\n",
    "obj = 0\n",
    "for i in range(len(P)):\n",
    "    \n",
    "    for j in range(len(P)):\n",
    "        obj += P[i][j]*M[i][j]\n",
    "        \n",
    "        \n",
    "        \n",
    "        \n",
    "        \n",
    "\n",
    "# obj2 = 0\n",
    "# #-------------------------- \n",
    "# obj1 = 0\n",
    "# for i in range(len(P)):\n",
    "#     obj2 = 0\n",
    "#     for j in range(len(P)):\n",
    "#         obj2 += P[j][i] \n",
    "#     obj1+= obj2 + P[i][j] \n",
    "#obj = new.sum()\n",
    "    \n",
    "m.setObjective(obj, GRB.MINIMIZE)#------------- this will help minimizing time \n"
   ]
  },
  {
   "cell_type": "code",
   "execution_count": null,
   "metadata": {},
   "outputs": [],
   "source": []
  },
  {
   "cell_type": "code",
   "execution_count": 10,
   "metadata": {},
   "outputs": [
    {
     "name": "stdout",
     "output_type": "stream",
     "text": [
      "Gurobi Optimizer version 9.0.2 build v9.0.2rc0 (win64)\n",
      "Optimize a model with 4 rows, 4 columns and 8 nonzeros\n",
      "Model fingerprint: 0x0af49efd\n",
      "Variable types: 0 continuous, 4 integer (4 binary)\n",
      "Coefficient statistics:\n",
      "  Matrix range     [1e+00, 1e+00]\n",
      "  Objective range  [8e+01, 1e+02]\n",
      "  Bounds range     [1e+00, 1e+00]\n",
      "  RHS range        [1e+00, 1e+00]\n",
      "Presolve removed 4 rows and 4 columns\n",
      "Presolve time: 0.00s\n",
      "Presolve: All rows and columns removed\n",
      "\n",
      "Explored 0 nodes (0 simplex iterations) in 0.01 seconds\n",
      "Thread count was 1 (of 8 available processors)\n",
      "\n",
      "Solution count 1: 213 \n",
      "\n",
      "Optimal solution found (tolerance 1.00e-04)\n",
      "Best objective 2.130000000000e+02, best bound 2.130000000000e+02, gap 0.0000%\n"
     ]
    }
   ],
   "source": [
    "m.optimize()#-------------using optimize function and it will show the result"
   ]
  },
  {
   "cell_type": "code",
   "execution_count": 11,
   "metadata": {},
   "outputs": [],
   "source": [
    "for i in range(len(P)):\n",
    "    \n",
    "    for j in range(len(P)):\n",
    "        new[i][j]= P[i][j]*M[i][j].X#--------------------for loop to see the selected grids"
   ]
  },
  {
   "cell_type": "code",
   "execution_count": null,
   "metadata": {},
   "outputs": [],
   "source": []
  },
  {
   "cell_type": "code",
   "execution_count": 12,
   "metadata": {},
   "outputs": [
    {
     "data": {
      "text/plain": [
       "array([[  0,  95],\n",
       "       [118,   0]])"
      ]
     },
     "execution_count": 12,
     "metadata": {},
     "output_type": "execute_result"
    }
   ],
   "source": [
    "new#-----------------------grids which are selected are showed below"
   ]
  },
  {
   "cell_type": "code",
   "execution_count": 13,
   "metadata": {},
   "outputs": [],
   "source": [
    "#-------------------- The problem here is in both cases the time is 213, I have considered only one patient to one doc at a time"
   ]
  },
  {
   "cell_type": "code",
   "execution_count": 14,
   "metadata": {},
   "outputs": [
    {
     "name": "stdout",
     "output_type": "stream",
     "text": [
      "minutes 213\n",
      "hours 3.55\n"
     ]
    }
   ],
   "source": [
    "minutess = new.sum()\n",
    "print(\"minutes\", + minutess)#-----------------------converting to hours\n",
    "hours = minutess/60\n",
    "print(\"hours\", + hours)"
   ]
  },
  {
   "cell_type": "code",
   "execution_count": null,
   "metadata": {},
   "outputs": [],
   "source": []
  },
  {
   "cell_type": "code",
   "execution_count": null,
   "metadata": {},
   "outputs": [],
   "source": []
  },
  {
   "cell_type": "code",
   "execution_count": null,
   "metadata": {},
   "outputs": [],
   "source": []
  },
  {
   "cell_type": "code",
   "execution_count": null,
   "metadata": {},
   "outputs": [],
   "source": []
  },
  {
   "cell_type": "code",
   "execution_count": null,
   "metadata": {},
   "outputs": [],
   "source": []
  },
  {
   "cell_type": "code",
   "execution_count": null,
   "metadata": {},
   "outputs": [],
   "source": []
  },
  {
   "cell_type": "code",
   "execution_count": null,
   "metadata": {},
   "outputs": [],
   "source": []
  },
  {
   "cell_type": "code",
   "execution_count": null,
   "metadata": {},
   "outputs": [],
   "source": []
  },
  {
   "cell_type": "code",
   "execution_count": null,
   "metadata": {},
   "outputs": [],
   "source": []
  },
  {
   "cell_type": "code",
   "execution_count": null,
   "metadata": {},
   "outputs": [],
   "source": []
  },
  {
   "cell_type": "code",
   "execution_count": null,
   "metadata": {},
   "outputs": [],
   "source": []
  },
  {
   "cell_type": "code",
   "execution_count": null,
   "metadata": {},
   "outputs": [],
   "source": []
  },
  {
   "cell_type": "code",
   "execution_count": null,
   "metadata": {},
   "outputs": [],
   "source": []
  },
  {
   "cell_type": "code",
   "execution_count": null,
   "metadata": {},
   "outputs": [],
   "source": []
  },
  {
   "cell_type": "code",
   "execution_count": null,
   "metadata": {},
   "outputs": [],
   "source": []
  },
  {
   "cell_type": "code",
   "execution_count": null,
   "metadata": {},
   "outputs": [],
   "source": []
  }
 ],
 "metadata": {
  "kernelspec": {
   "display_name": "Python 3",
   "language": "python",
   "name": "python3"
  },
  "language_info": {
   "codemirror_mode": {
    "name": "ipython",
    "version": 3
   },
   "file_extension": ".py",
   "mimetype": "text/x-python",
   "name": "python",
   "nbconvert_exporter": "python",
   "pygments_lexer": "ipython3",
   "version": "3.7.6"
  }
 },
 "nbformat": 4,
 "nbformat_minor": 4
}
